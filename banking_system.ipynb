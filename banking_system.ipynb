{
 "cells": [
  {
   "cell_type": "markdown",
   "metadata": {},
   "source": [
    "# Banking System"
   ]
  },
  {
   "cell_type": "markdown",
   "metadata": {},
   "source": [
    "## 1. Define the Requirements\n",
    "1. **Account Management**: Create, manage, close bank accounts\n",
    "2. **Transactions**: Handle deposits, transfers, withdrawals\n",
    "3. **Transaction History**: Keep a record of all transactions for each account\n",
    "4. **Ranking System**: Implement a method to return `n` accounts with the most total transactions\n",
    "5. **Funds Transfer Validation**: Ensure sufficient funds before allowing transfers<br>\n",
    "    a. Make sure transfer is accepted before doing funds transfer"
   ]
  },
  {
   "cell_type": "markdown",
   "metadata": {},
   "source": [
    "## 2. Design the System\n",
    "- Classes\n",
    "    - `Bank`: manage all accounts\n",
    "    - `Account`: individual bank account\n",
    "    - `Transaction`: a single transaction (depoosit, transfer, withdrawal)\n",
    "- `Bank`\n",
    "    - Attributes:\n",
    "        - `accounts`: list of all accounts\n",
    "    - Methods:\n",
    "        - `create_account()`\n",
    "        - `close_account()` \n",
    "        - `get_account()`\n",
    "        - `get_top_accounts_by_transactions()`\n",
    "- `Account`\n",
    "    - Attributes:\n",
    "        - `id`\n",
    "        - `balance`\n",
    "        - `transactions`: list of all transactions\n",
    "    - Methods:\n",
    "        - `deposit()`\n",
    "        - `withdraw()`\n",
    "        - `transfer()`\n",
    "        - `get_balance()`\n",
    "        - `get_transactions()`\n",
    "- `Transaction`\n",
    "    - Attributes:\n",
    "        - `id`\n",
    "        - `type`: deposit, withdrawal, transfer\n",
    "        - `amount`\n",
    "        - `timestamp`"
   ]
  },
  {
   "cell_type": "markdown",
   "metadata": {},
   "source": [
    "## 3. Implement the System\n",
    "*Note: implementation starts from the smallest class to the largest.*\n",
    "- Step 1: define the `Transaction` class\n",
    "- Step 2: define the `Account` class\n",
    "    - Step 2.1: validate funds transfer within `transfer()` method.\n",
    "- Step 3: define the `Bank` class\n",
    "    - Step 3.1: implement the ranking system within the `Bank` class"
   ]
  },
  {
   "cell_type": "markdown",
   "metadata": {},
   "source": [
    "## 4. Coding"
   ]
  },
  {
   "cell_type": "code",
   "execution_count": 1,
   "metadata": {},
   "outputs": [],
   "source": [
    "import itertools\n",
    "from datetime import datetime\n",
    "from typing import List\n"
   ]
  },
  {
   "cell_type": "code",
   "execution_count": 2,
   "metadata": {},
   "outputs": [],
   "source": [
    "class Transaction:\n",
    "    id_iter: itertools.count = itertools.count()\n",
    "    \n",
    "    def __init__(self, type: str, amount: float):\n",
    "        self.id: int = next(Transaction.id_iter)\n",
    "        self.type: str = type\n",
    "        self.amount: float = amount\n",
    "        self.date: datetime = datetime.now()"
   ]
  },
  {
   "cell_type": "code",
   "execution_count": 3,
   "metadata": {},
   "outputs": [],
   "source": [
    "class Account:\n",
    "    id_iter: itertools.count = itertools.count()\n",
    "\n",
    "    def __init__(self):\n",
    "        self.id: int = next(Account.id_iter)\n",
    "        self.balance: float = 0.0\n",
    "        self.transaction: List[Transaction] = []\n",
    "\n",
    "    def deposit(self, amount: float) -> None:\n",
    "        self.balance += amount\n",
    "        self.transaction.append(Transaction('deposit', amount))\n",
    "    \n",
    "    def withdraw(self, amount: float) -> None:\n",
    "        if amount > self.balance:\n",
    "            raise ValueError('Insufficient funds')\n",
    "        self.balance -= amount\n",
    "        self.transaction.append(Transaction('withdraw', amount))\n",
    "    \n",
    "    def transfer(self, amount: float, target_account: 'Account') -> None:\n",
    "        if amount > self.balance:\n",
    "            raise ValueError('Insufficient funds')\n",
    "        self.withdraw(amount)\n",
    "        target_account.deposit(amount)\n"
   ]
  },
  {
   "cell_type": "code",
   "execution_count": null,
   "metadata": {},
   "outputs": [],
   "source": [
    "class Bank:\n",
    "    def __init__(self):\n",
    "        self.accounts: dict[int, Account] = {}\n",
    "    \n",
    "    def create_account(self) -> Account:\n",
    "        account = Account()\n",
    "        self.accounts[account.id] = account\n",
    "        return account\n",
    "    \n",
    "    def get_top_accounts_by_transactions(self, n: int) -> List[Account]:\n",
    "        return sorted(self.accounts.values(), key=lambda account: len(account.transaction), reverse=True)[:n]"
   ]
  }
 ],
 "metadata": {
  "kernelspec": {
   "display_name": "Python 3",
   "language": "python",
   "name": "python3"
  },
  "language_info": {
   "codemirror_mode": {
    "name": "ipython",
    "version": 3
   },
   "file_extension": ".py",
   "mimetype": "text/x-python",
   "name": "python",
   "nbconvert_exporter": "python",
   "pygments_lexer": "ipython3",
   "version": "3.10.10"
  }
 },
 "nbformat": 4,
 "nbformat_minor": 2
}
