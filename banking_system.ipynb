{
 "cells": [
  {
   "cell_type": "markdown",
   "metadata": {},
   "source": [
    "# Banking System"
   ]
  },
  {
   "cell_type": "markdown",
   "metadata": {},
   "source": [
    "## 1. Define the Requirements\n",
    "1. **Account Management**: Create, manage, close bank accounts\n",
    "2. **Transactions**: Handle deposits, transfers, withdrawals\n",
    "3. **Transaction History**: Keep a record of all transactions for each account\n",
    "4. **Ranking System**: Implement a method to return `n` accounts with the most total transactions\n",
    "5. **Funds Transfer Validation**: Ensure sufficient funds before allowing transfers<br>\n",
    "    a. Make sure transfer is accepted before doing funds transfer"
   ]
  },
  {
   "cell_type": "markdown",
   "metadata": {},
   "source": [
    "## 2. Design the System\n",
    "- Classes\n",
    "    - `Bank`: manage all accounts\n",
    "    - `Account`: individual bank account\n",
    "    - `Transaction`: a single transaction (depoosit, transfer, withdrawal)\n",
    "- `Bank`\n",
    "    - Attributes:\n",
    "        - `accounts`: list of all accounts\n",
    "    - Methods:\n",
    "        - `create_account()`\n",
    "        - `close_account()` \n",
    "        - `get_account()`\n",
    "        - `get_top_accounts_by_transactions()`\n",
    "- `Account`\n",
    "    - Attributes:\n",
    "        - `ID`\n",
    "        - `balance`\n",
    "        - `transactions`: list of all transactions\n",
    "    - Methods:\n",
    "        - `deposit()`\n",
    "        - `withdraw()`\n",
    "        - `transfer()`\n",
    "        - `get_balance()`\n",
    "        - `get_transactions()`\n",
    "- `Transaction`\n",
    "    - Attributes:\n",
    "        - `ID`\n",
    "        - `type`: deposit, withdrawal, transfer\n",
    "        - `amount`\n",
    "        - `timestamp`"
   ]
  },
  {
   "cell_type": "markdown",
   "metadata": {},
   "source": []
  }
 ],
 "metadata": {
  "kernelspec": {
   "display_name": "Python 3",
   "language": "python",
   "name": "python3"
  },
  "language_info": {
   "name": "python",
   "version": "3.10.10"
  }
 },
 "nbformat": 4,
 "nbformat_minor": 2
}
